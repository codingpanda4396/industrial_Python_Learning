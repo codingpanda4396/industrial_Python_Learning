{
 "cells": [
  {
   "cell_type": "markdown",
   "id": "bd29b803",
   "metadata": {},
   "source": [
    "# 数据清洗常见步骤\n",
    "1. 缺失值处理\n",
    "2. 重复数据处理\n",
    "3. 异常值处理\n",
    "4. 数据格式转换\n",
    "5. 标准化与归一化\n",
    "6. 类别数据编码\n",
    "7. 文本处理\n",
    "8. 数据抽样\n",
    "9. 特征工程\n"
   ]
  },
  {
   "cell_type": "markdown",
   "id": "ed6cb406",
   "metadata": {},
   "source": [
    "## 清洗空值"
   ]
  },
  {
   "cell_type": "code",
   "execution_count": null,
   "id": "d0bece5b",
   "metadata": {},
   "outputs": [],
   "source": [
    "import pandas as pd\n",
    "missing_values=[\"n/a\", \"na\", \"--\"]\n",
    "df= pd.read_csv(r\"D:\\CodingPanda\\Python\\pandasLearning\\data\\property-data.csv\",na_values=missing_values)\n",
    "#可以设置空数据长什么样\n",
    "#print(df['NUM_BEDROOMS'])\n",
    "#print(df['NUM_BEDROOMS'].isnull())\n",
    "new_df=df.dropna(subset=[\"ST_NUM\"])#inplace= 参数可以让这个操作覆盖原文件\n",
    "print(df.to_string())\n",
    "print(new_df.to_string())\n"
   ]
  },
  {
   "cell_type": "markdown",
   "id": "205802a0",
   "metadata": {},
   "source": [
    "## 清洗错误数据"
   ]
  },
  {
   "cell_type": "code",
   "execution_count": null,
   "id": "67a7ae86",
   "metadata": {},
   "outputs": [
    {
     "name": "stdout",
     "output_type": "stream",
     "text": [
      "<bound method DataFrame.to_string of            Date  duration\n",
      "day1 2020-12-01        50\n",
      "day2 2020-12-02        40\n",
      "day3 2020-12-26        45>\n"
     ]
    }
   ],
   "source": [
    "data = {\n",
    "  \"Date\": ['2020/12/01', '2020/12/02' , '20201226'],#这列有格式错误\n",
    "  \"duration\": [50, 40, 45]\n",
    "}\n",
    "df=pd.DataFrame(data,index=[\"day1\", \"day2\", \"day3\"])\n",
    "\n",
    "df[\"Date\"]=pd.to_datetime(df[\"Date\"],format=\"mixed\")\n",
    "#\n",
    "print(df.to_string)"
   ]
  },
  {
   "cell_type": "code",
   "execution_count": 12,
   "id": "a4896348",
   "metadata": {},
   "outputs": [
    {
     "name": "stdout",
     "output_type": "stream",
     "text": [
      "     name  age\n",
      "0  Google   50\n",
      "1  Runoob  120\n",
      "2  Taobao  120\n"
     ]
    }
   ],
   "source": [
    "person = {\n",
    "  \"name\": ['Google', 'Runoob' , 'Taobao'],\n",
    "  \"age\": [50, 200, 12345]    \n",
    "}\n",
    "\n",
    "df = pd.DataFrame(person)\n",
    "\n",
    "for x in df.index:\n",
    "  if df.loc[x, \"age\"] > 120:\n",
    "    df.loc[x, \"age\"] = 120#设置条件语句，清洗异常数据\n",
    "\n",
    "print(df.to_string())"
   ]
  },
  {
   "cell_type": "code",
   "execution_count": null,
   "id": "c4d76fed",
   "metadata": {},
   "outputs": [],
   "source": []
  }
 ],
 "metadata": {
  "kernelspec": {
   "display_name": "Python 3",
   "language": "python",
   "name": "python3"
  },
  "language_info": {
   "codemirror_mode": {
    "name": "ipython",
    "version": 3
   },
   "file_extension": ".py",
   "mimetype": "text/x-python",
   "name": "python",
   "nbconvert_exporter": "python",
   "pygments_lexer": "ipython3",
   "version": "3.13.4"
  }
 },
 "nbformat": 4,
 "nbformat_minor": 5
}

{
 "cells": [
  {
   "cell_type": "code",
   "execution_count": 2,
   "id": "91f8cdba-b90e-4c04-9a5e-785f1a41e5f5",
   "metadata": {},
   "outputs": [
    {
     "data": {
      "text/plain": [
       "'C:\\\\Users\\\\14690'"
      ]
     },
     "execution_count": 2,
     "metadata": {},
     "output_type": "execute_result"
    }
   ],
   "source": [
    "import os\n",
    "os.getcwd() #获取当前工作路径"
   ]
  },
  {
   "cell_type": "code",
   "execution_count": 10,
   "id": "8a843c9f-aa12-4c0a-83fa-fe2d26288519",
   "metadata": {},
   "outputs": [
    {
     "data": {
      "text/plain": [
       "['git', 'Python']"
      ]
     },
     "execution_count": 10,
     "metadata": {},
     "output_type": "execute_result"
    }
   ],
   "source": [
    "\n",
    "path=r'D:\\CodingPanda'\n",
    "os.listdir(path) #返回一个list、里面是文件、文件夹名。"
   ]
  },
  {
   "cell_type": "code",
   "execution_count": 6,
   "id": "b24ffe14-b125-4430-a12e-8f89ddb02238",
   "metadata": {},
   "outputs": [
    {
     "name": "stdout",
     "output_type": "stream",
     "text": [
      "D:\\ProgramData\n",
      "['Quark', 'quark-cloud-drive']\n",
      "[]\n",
      " \n",
      "D:\\ProgramData\\Quark\n",
      "['videoCache']\n",
      "[]\n",
      " \n",
      "D:\\ProgramData\\Quark\\videoCache\n",
      "['2db6d12bcbb43485e85aca61d6b7b256_contents', '3111fb4d4ff796460b359da3176edb16_contents', '7be275a5ecfd7c7a64310e05f1be5f4b_contents', 'e330c92b374dd1471abb0a9be5aeecf7_contents', 'ee5da0d5826fa82977a9cd89ad47eb6f_contents', 'shds']\n",
      "['909f9cf004b09f7e3548581551f7d5e1', 'b63ab292363a79bc4feb0d0b3d241048']\n",
      " \n",
      "D:\\ProgramData\\Quark\\videoCache\\2db6d12bcbb43485e85aca61d6b7b256_contents\n",
      "[]\n",
      "['0', '2db6d12bcbb43485e85aca61d6b7b256']\n",
      " \n",
      "D:\\ProgramData\\Quark\\videoCache\\3111fb4d4ff796460b359da3176edb16_contents\n",
      "[]\n",
      "['0', '3111fb4d4ff796460b359da3176edb16']\n",
      " \n",
      "D:\\ProgramData\\Quark\\videoCache\\7be275a5ecfd7c7a64310e05f1be5f4b_contents\n",
      "[]\n",
      "['0', '7be275a5ecfd7c7a64310e05f1be5f4b']\n",
      " \n",
      "D:\\ProgramData\\Quark\\videoCache\\e330c92b374dd1471abb0a9be5aeecf7_contents\n",
      "[]\n",
      "['0', '1', 'e330c92b374dd1471abb0a9be5aeecf7']\n",
      " \n",
      "D:\\ProgramData\\Quark\\videoCache\\ee5da0d5826fa82977a9cd89ad47eb6f_contents\n",
      "[]\n",
      "['0', 'ee5da0d5826fa82977a9cd89ad47eb6f']\n",
      " \n",
      "D:\\ProgramData\\Quark\\videoCache\\shds\n",
      "[]\n",
      "['bdb031a1f43c8ce62363767ff73dbacc', 'be1eada07322b8cbcbfd3764891e58f2', 'cd40a11503eb618f1e6419c21e1ea9d7', 'edfbb91d35bb23dd1cd302bc7281f7c6']\n",
      " \n",
      "D:\\ProgramData\\quark-cloud-drive\n",
      "[]\n",
      "[]\n",
      " \n"
     ]
    },
    {
     "name": "stderr",
     "output_type": "stream",
     "text": [
      "<>:1: SyntaxWarning: invalid escape sequence '\\P'\n",
      "<>:1: SyntaxWarning: invalid escape sequence '\\P'\n",
      "C:\\Users\\14690\\AppData\\Local\\Temp\\ipykernel_14484\\2871574892.py:1: SyntaxWarning: invalid escape sequence '\\P'\n",
      "  path='D:\\ProgramData'\n"
     ]
    }
   ],
   "source": [
    "path='D:\\ProgramData'\n",
    "for path,dirs,files in os.walk(path):\n",
    "    print(path)\n",
    "    print(dirs)\n",
    "    print(files)\n",
    "    print(\" \")"
   ]
  },
  {
   "cell_type": "code",
   "execution_count": null,
   "id": "21cdf319-00a3-4bf5-920d-a127b9093dd3",
   "metadata": {},
   "outputs": [],
   "source": [
    "os.path.exists(path) #传入一个path路径，判断指定路径下的目录是否存在。存在返回True，否则返回False"
   ]
  },
  {
   "cell_type": "code",
   "execution_count": 9,
   "id": "9c0bf7b0-8b19-4f90-886a-1d19611d3acc",
   "metadata": {},
   "outputs": [
    {
     "ename": "PermissionError",
     "evalue": "[WinError 5] 拒绝访问。: 'C:\\\\Users\\\\14690panda'",
     "output_type": "error",
     "traceback": [
      "\u001b[31m---------------------------------------------------------------------------\u001b[39m",
      "\u001b[31mPermissionError\u001b[39m                           Traceback (most recent call last)",
      "\u001b[36mCell\u001b[39m\u001b[36m \u001b[39m\u001b[32mIn[9]\u001b[39m\u001b[32m, line 6\u001b[39m\n\u001b[32m      4\u001b[39m     \u001b[38;5;28;01mpass\u001b[39;00m\n\u001b[32m      5\u001b[39m \u001b[38;5;28;01melse\u001b[39;00m:\n\u001b[32m----> \u001b[39m\u001b[32m6\u001b[39m     \u001b[43mos\u001b[49m\u001b[43m.\u001b[49m\u001b[43mmkdir\u001b[49m\u001b[43m(\u001b[49m\u001b[43mpath\u001b[49m\u001b[43m)\u001b[49m\u001b[38;5;66;03m#含义：传入一个path路径，创建单层(单个)文件夹；\u001b[39;00m\n",
      "\u001b[31mPermissionError\u001b[39m: [WinError 5] 拒绝访问。: 'C:\\\\Users\\\\14690panda'"
     ]
    }
   ],
   "source": [
    "p=os.getcwd()\n",
    "path=p+\"panda\"\n",
    "if os.path.exists(path):\n",
    "    pass\n",
    "else:\n",
    "    os.mkdir(path)#含义：传入一个path路径，创建单层(单个)文件夹；"
   ]
  },
  {
   "cell_type": "code",
   "execution_count": 4,
   "id": "ab7e0067-1c1f-4672-9683-905a66b9cbb4",
   "metadata": {},
   "outputs": [],
   "source": [
    "p=r'D:\\CodingPanda\\mkdir\\mkdirs'\n",
    "os.makedirs(p) # 传入一个path路径，创建多层文件夹"
   ]
  },
  {
   "cell_type": "code",
   "execution_count": 5,
   "id": "0a086fca-7b1e-4ed6-a3bd-c3a7c5fe6079",
   "metadata": {},
   "outputs": [],
   "source": [
    "p=r'D:\\CodingPanda\\mkdir\\mkdirs'\n",
    "os.rmdir(p) #删除一个空文件夹，如果文件夹不为空则报错"
   ]
  },
  {
   "cell_type": "code",
   "execution_count": 6,
   "id": "af022da5-4408-4e2b-a84c-248a2db8efd4",
   "metadata": {},
   "outputs": [
    {
     "data": {
      "text/plain": [
       "'D:\\\\CodingPanda\\\\mkdir\\\\mkdirs\\\\hello.txt'"
      ]
     },
     "execution_count": 6,
     "metadata": {},
     "output_type": "execute_result"
    }
   ],
   "source": [
    "p=r'D:\\CodingPanda\\mkdir\\mkdirs'\n",
    "os.path.join(p,'hello.txt')# 合并两个路径"
   ]
  },
  {
   "cell_type": "code",
   "execution_count": 7,
   "id": "68d663a8-61ed-4a1b-8a47-8f2e360cc70f",
   "metadata": {},
   "outputs": [
    {
     "data": {
      "text/plain": [
       "('D:\\\\CodingPanda\\\\mkdir\\\\mkdirs', 'hello.txt')"
      ]
     },
     "execution_count": 7,
     "metadata": {},
     "output_type": "execute_result"
    }
   ],
   "source": [
    "p='D:\\\\CodingPanda\\\\mkdir\\\\mkdirs\\\\hello.txt'\n",
    "os.path.split(p)# 将路径分解为绝对路径和文件名"
   ]
  },
  {
   "cell_type": "code",
   "execution_count": null,
   "id": "0f4af568-50e5-4830-a611-c52296907a76",
   "metadata": {},
   "outputs": [],
   "source": []
  }
 ],
 "metadata": {
  "kernelspec": {
   "display_name": "Python 3 (ipykernel)",
   "language": "python",
   "name": "python3"
  },
  "language_info": {
   "codemirror_mode": {
    "name": "ipython",
    "version": 3
   },
   "file_extension": ".py",
   "mimetype": "text/x-python",
   "name": "python",
   "nbconvert_exporter": "python",
   "pygments_lexer": "ipython3",
   "version": "3.13.4"
  }
 },
 "nbformat": 4,
 "nbformat_minor": 5
}

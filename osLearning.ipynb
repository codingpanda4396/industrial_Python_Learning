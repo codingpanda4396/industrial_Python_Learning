{
 "cells": [
  {
   "cell_type": "code",
   "execution_count": null,
   "id": "91f8cdba-b90e-4c04-9a5e-785f1a41e5f5",
   "metadata": {},
   "outputs": [],
   "source": []
  }
 ],
 "metadata": {
  "kernelspec": {
   "display_name": "",
   "name": ""
  },
  "language_info": {
   "name": ""
  }
 },
 "nbformat": 4,
 "nbformat_minor": 5
}
